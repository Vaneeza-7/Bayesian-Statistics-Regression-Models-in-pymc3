{
 "cells": [
  {
   "cell_type": "code",
   "execution_count": 1,
   "id": "2207f2e4-8763-4b73-9c16-b677b556d849",
   "metadata": {},
   "outputs": [
    {
     "name": "stderr",
     "output_type": "stream",
     "text": [
      "WARNING (theano.tensor.blas): Using NumPy C-API based implementation for BLAS functions.\n"
     ]
    }
   ],
   "source": [
    "import pymc3 as pm"
   ]
  },
  {
   "cell_type": "code",
   "execution_count": 18,
   "id": "1598df1d-de51-4a46-aaf3-c92e655d3c21",
   "metadata": {},
   "outputs": [
    {
     "name": "stderr",
     "output_type": "stream",
     "text": [
      "C:\\Users\\Vaneeza Ahmad\\anaconda3\\envs\\pm3bap\\lib\\site-packages\\deprecat\\classic.py:215: FutureWarning: In v4.0, pm.sample will return an `arviz.InferenceData` object instead of a `MultiTrace` by default. You can pass return_inferencedata=True or return_inferencedata=False to be safe and silence this warning.\n",
      "  return wrapped_(*args_, **kwargs_)\n",
      "Auto-assigning NUTS sampler...\n",
      "Initializing NUTS using jitter+adapt_diag...\n",
      "Multiprocess sampling (4 chains in 4 jobs)\n",
      "NUTS: [p]\n"
     ]
    },
    {
     "data": {
      "text/html": [
       "\n",
       "<style>\n",
       "    /* Turns off some styling */\n",
       "    progress {\n",
       "        /* gets rid of default border in Firefox and Opera. */\n",
       "        border: none;\n",
       "        /* Needs to be in here for Safari polyfill so background images work as expected. */\n",
       "        background-size: auto;\n",
       "    }\n",
       "    progress:not([value]), progress:not([value])::-webkit-progress-bar {\n",
       "        background: repeating-linear-gradient(45deg, #7e7e7e, #7e7e7e 10px, #5c5c5c 10px, #5c5c5c 20px);\n",
       "    }\n",
       "    .progress-bar-interrupted, .progress-bar-interrupted::-webkit-progress-bar {\n",
       "        background: #F44336;\n",
       "    }\n",
       "</style>\n"
      ],
      "text/plain": [
       "<IPython.core.display.HTML object>"
      ]
     },
     "metadata": {},
     "output_type": "display_data"
    },
    {
     "data": {
      "text/html": [
       "\n",
       "    <div>\n",
       "      <progress value='8000' class='' max='8000' style='width:300px; height:20px; vertical-align: middle;'></progress>\n",
       "      100.00% [8000/8000 00:04&lt;00:00 Sampling 4 chains, 0 divergences]\n",
       "    </div>\n",
       "    "
      ],
      "text/plain": [
       "<IPython.core.display.HTML object>"
      ]
     },
     "metadata": {},
     "output_type": "display_data"
    },
    {
     "name": "stderr",
     "output_type": "stream",
     "text": [
      "Sampling 4 chains for 1_000 tune and 1_000 draw iterations (4_000 + 4_000 draws total) took 23 seconds.\n"
     ]
    }
   ],
   "source": [
    "total_rolls=150\n",
    "no_observed_six=39\n",
    "\n",
    "with pm.Model() as my_model:\n",
    "    #supposing prior = Beta\n",
    "    p=pm.Beta(\"p\", alpha=1, beta=1)\n",
    "    \n",
    "    #supposing prior = Uniform\n",
    "    #p=pm.Uniform(\"p\", 0, 1)\n",
    "    \n",
    "    #supposing likelihood = Binomial bcz number of successes and trials is given\n",
    "    likelihood=pm.Binomial(\"likelihood\", p=p, n=total_rolls, observed=no_observed_six)\n",
    "    data=pm.sample(1000)"
   ]
  },
  {
   "cell_type": "code",
   "execution_count": 19,
   "id": "03588326-cdfb-4d49-ab2b-cfb1bbc04c40",
   "metadata": {},
   "outputs": [
    {
     "data": {
      "text/plain": [
       "0.2632236414375122"
      ]
     },
     "execution_count": 19,
     "metadata": {},
     "output_type": "execute_result"
    }
   ],
   "source": [
    "data['p'].mean()"
   ]
  },
  {
   "cell_type": "markdown",
   "id": "fdcd0ece-3aa1-411f-9c35-44f7b1da9c00",
   "metadata": {},
   "source": [
    "# Model Estimations Results\n",
    "| Choice of Prior | Parameters     | Model Estimate |\n",
    "|-----------------|----------------|----------------|\n",
    "|Uniform          |lower=0 upper=1 |0.26368161969593|\n",
    "|Beta             |alpha=1 beta=1  |0.26149624983608|\n",
    "|Beta             |alpha=5 beta=1  |0.28081282164154|\n",
    "|Beta             |alpha=1 beta=5  |0.25661071815007|\n",
    "|Beta             |alpha=5 beta=5  |0.27391507401693|\n"
   ]
  },
  {
   "cell_type": "code",
   "execution_count": null,
   "id": "8e0d6a14-7b3e-438c-8a28-9cca621f3337",
   "metadata": {},
   "outputs": [],
   "source": [
    "#BY Vaneeza Ahmad (21i-0390) CS-A"
   ]
  }
 ],
 "metadata": {
  "kernelspec": {
   "display_name": "Python 3 (ipykernel)",
   "language": "python",
   "name": "python3"
  },
  "language_info": {
   "codemirror_mode": {
    "name": "ipython",
    "version": 3
   },
   "file_extension": ".py",
   "mimetype": "text/x-python",
   "name": "python",
   "nbconvert_exporter": "python",
   "pygments_lexer": "ipython3",
   "version": "3.9.17"
  }
 },
 "nbformat": 4,
 "nbformat_minor": 5
}
